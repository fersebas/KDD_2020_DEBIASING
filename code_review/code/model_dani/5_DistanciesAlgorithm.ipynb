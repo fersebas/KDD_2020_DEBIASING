{
 "cells": [
  {
   "cell_type": "code",
   "execution_count": 1,
   "metadata": {},
   "outputs": [],
   "source": [
    "import numpy as np\n",
    "from IPython.display import clear_output\n",
    "\n",
    "def calculate_distances(row,matrix):\n",
    "    distances = (row-matrix) \n",
    "    distances *= distances\n",
    "    distances = np.sum(distances,axis=1)\n",
    "    return distances\n",
    "\n",
    "def calculate_distances_cos(row,matrix,norma_matrix):\n",
    "    square_row = row * row\n",
    "    sum_norma_row = np.sum(square_row)\n",
    "    norma_row = np.sqrt(sum_norma_row)\n",
    "    \n",
    "    divisor = norma_row * norma_matrix\n",
    "    numerador = np.sum(row * matrix,axis=1)\n",
    "    \n",
    "    distances = 1 - numerador / divisor\n",
    "    #distances[divisor == 0] = 2\n",
    "    \n",
    "    return distances\n",
    "\n",
    "def distance(matrix_a,matrix_b,N):\n",
    "    \"\"\"Devuelve para cada id_matrix_a los 50 id_matrix_b más próximos ordenados.\"\"\"\n",
    "    id_b = matrix_b[:,0].astype(np.int)\n",
    "    data_b = matrix_b[:,1:]\n",
    "    \n",
    "    square_matrix_b = data_b * data_b\n",
    "    sum_norma_matrix_b = np.sum(square_matrix_b,axis=1)\n",
    "    norma_matrix_b = np.sqrt(sum_norma_matrix_b)\n",
    "    \n",
    "    output_id = []\n",
    "    output_distance = []\n",
    "    output_data = []\n",
    "    cont = 0\n",
    "    \n",
    "    for row_a in matrix_a:\n",
    "        \n",
    "        clear_output(wait=True)\n",
    "        print(cont,\"/\",matrix_a.shape[0], flush=True)\n",
    "        cont += 1\n",
    "        \n",
    "        row_id = int(row_a[0])\n",
    "        row_data = row_a[1:]\n",
    "        \n",
    "        distances = calculate_distances_cos(row_data,data_b,norma_matrix_b)\n",
    "        # distances = calculate_distances(row_data,data_b)\n",
    "        \n",
    "        sorted_indexes = np.argsort(distances).tolist()[0:N]\n",
    "        sorted_distances = np.sort(distances).tolist()[0:N]\n",
    "        \n",
    "        ref = [row_id]*N\n",
    "        \n",
    "        output_id.append(ref)\n",
    "        index_in_b = id_b[sorted_indexes]\n",
    "        output_data.append(index_in_b)\n",
    "        output_distance.append(sorted_distances)\n",
    "        \n",
    "    output = np.array([output_id,output_data,output_distance]).reshape(3,N*matrix_a.shape[0])\n",
    "        \n",
    "    return output"
   ]
  },
  {
   "cell_type": "code",
   "execution_count": 21,
   "metadata": {},
   "outputs": [
    {
     "name": "stdout",
     "output_type": "stream",
     "text": [
      "17296 / 17297\n",
      "Cargando datos B\n"
     ]
    },
    {
     "ename": "OSError",
     "evalue": "..\\..\\user_data\\tmp_model_dani\\Underexpose_item_feat_prin_all_train_TXT.txt not found.",
     "output_type": "error",
     "traceback": [
      "\u001b[1;31m---------------------------------------------------------------------------\u001b[0m",
      "\u001b[1;31mOSError\u001b[0m                                   Traceback (most recent call last)",
      "\u001b[1;32m<ipython-input-21-2bc57b833ab7>\u001b[0m in \u001b[0;36m<module>\u001b[1;34m\u001b[0m\n\u001b[0;32m     13\u001b[0m \u001b[1;33m\u001b[0m\u001b[0m\n\u001b[0;32m     14\u001b[0m \u001b[0mprint\u001b[0m\u001b[1;33m(\u001b[0m\u001b[1;34m\"Cargando datos B\"\u001b[0m\u001b[1;33m,\u001b[0m \u001b[0mflush\u001b[0m\u001b[1;33m=\u001b[0m\u001b[1;32mTrue\u001b[0m\u001b[1;33m)\u001b[0m\u001b[1;33m\u001b[0m\u001b[1;33m\u001b[0m\u001b[0m\n\u001b[1;32m---> 15\u001b[1;33m \u001b[0mmatrix_b\u001b[0m \u001b[1;33m=\u001b[0m \u001b[0mnp\u001b[0m\u001b[1;33m.\u001b[0m\u001b[0mgenfromtxt\u001b[0m\u001b[1;33m(\u001b[0m\u001b[1;34m\"..\\\\..\\\\user_data\\\\tmp_model_dani\\\\Underexpose_item_feat_prin_all_train_TXT.txt\"\u001b[0m\u001b[1;33m,\u001b[0m \u001b[0mdelimiter\u001b[0m\u001b[1;33m=\u001b[0m\u001b[1;34m','\u001b[0m\u001b[1;33m)\u001b[0m\u001b[1;33m\u001b[0m\u001b[1;33m\u001b[0m\u001b[0m\n\u001b[0m\u001b[0;32m     16\u001b[0m \u001b[1;33m\u001b[0m\u001b[0m\n\u001b[0;32m     17\u001b[0m \u001b[0mprint\u001b[0m\u001b[1;33m(\u001b[0m\u001b[1;34m\"Cargando datos A\"\u001b[0m\u001b[1;33m,\u001b[0m \u001b[0mflush\u001b[0m\u001b[1;33m=\u001b[0m\u001b[1;32mTrue\u001b[0m\u001b[1;33m)\u001b[0m\u001b[1;33m\u001b[0m\u001b[1;33m\u001b[0m\u001b[0m\n",
      "\u001b[1;32m~\\Anaconda3\\lib\\site-packages\\numpy\\lib\\npyio.py\u001b[0m in \u001b[0;36mgenfromtxt\u001b[1;34m(fname, dtype, comments, delimiter, skip_header, skip_footer, converters, missing_values, filling_values, usecols, names, excludelist, deletechars, replace_space, autostrip, case_sensitive, defaultfmt, unpack, usemask, loose, invalid_raise, max_rows, encoding)\u001b[0m\n\u001b[0;32m   1742\u001b[0m             \u001b[0mfname\u001b[0m \u001b[1;33m=\u001b[0m \u001b[0mos_fspath\u001b[0m\u001b[1;33m(\u001b[0m\u001b[0mfname\u001b[0m\u001b[1;33m)\u001b[0m\u001b[1;33m\u001b[0m\u001b[1;33m\u001b[0m\u001b[0m\n\u001b[0;32m   1743\u001b[0m         \u001b[1;32mif\u001b[0m \u001b[0misinstance\u001b[0m\u001b[1;33m(\u001b[0m\u001b[0mfname\u001b[0m\u001b[1;33m,\u001b[0m \u001b[0mbasestring\u001b[0m\u001b[1;33m)\u001b[0m\u001b[1;33m:\u001b[0m\u001b[1;33m\u001b[0m\u001b[1;33m\u001b[0m\u001b[0m\n\u001b[1;32m-> 1744\u001b[1;33m             \u001b[0mfhd\u001b[0m \u001b[1;33m=\u001b[0m \u001b[0miter\u001b[0m\u001b[1;33m(\u001b[0m\u001b[0mnp\u001b[0m\u001b[1;33m.\u001b[0m\u001b[0mlib\u001b[0m\u001b[1;33m.\u001b[0m\u001b[0m_datasource\u001b[0m\u001b[1;33m.\u001b[0m\u001b[0mopen\u001b[0m\u001b[1;33m(\u001b[0m\u001b[0mfname\u001b[0m\u001b[1;33m,\u001b[0m \u001b[1;34m'rt'\u001b[0m\u001b[1;33m,\u001b[0m \u001b[0mencoding\u001b[0m\u001b[1;33m=\u001b[0m\u001b[0mencoding\u001b[0m\u001b[1;33m)\u001b[0m\u001b[1;33m)\u001b[0m\u001b[1;33m\u001b[0m\u001b[1;33m\u001b[0m\u001b[0m\n\u001b[0m\u001b[0;32m   1745\u001b[0m             \u001b[0mown_fhd\u001b[0m \u001b[1;33m=\u001b[0m \u001b[1;32mTrue\u001b[0m\u001b[1;33m\u001b[0m\u001b[1;33m\u001b[0m\u001b[0m\n\u001b[0;32m   1746\u001b[0m         \u001b[1;32melse\u001b[0m\u001b[1;33m:\u001b[0m\u001b[1;33m\u001b[0m\u001b[1;33m\u001b[0m\u001b[0m\n",
      "\u001b[1;32m~\\Anaconda3\\lib\\site-packages\\numpy\\lib\\_datasource.py\u001b[0m in \u001b[0;36mopen\u001b[1;34m(path, mode, destpath, encoding, newline)\u001b[0m\n\u001b[0;32m    264\u001b[0m \u001b[1;33m\u001b[0m\u001b[0m\n\u001b[0;32m    265\u001b[0m     \u001b[0mds\u001b[0m \u001b[1;33m=\u001b[0m \u001b[0mDataSource\u001b[0m\u001b[1;33m(\u001b[0m\u001b[0mdestpath\u001b[0m\u001b[1;33m)\u001b[0m\u001b[1;33m\u001b[0m\u001b[1;33m\u001b[0m\u001b[0m\n\u001b[1;32m--> 266\u001b[1;33m     \u001b[1;32mreturn\u001b[0m \u001b[0mds\u001b[0m\u001b[1;33m.\u001b[0m\u001b[0mopen\u001b[0m\u001b[1;33m(\u001b[0m\u001b[0mpath\u001b[0m\u001b[1;33m,\u001b[0m \u001b[0mmode\u001b[0m\u001b[1;33m,\u001b[0m \u001b[0mencoding\u001b[0m\u001b[1;33m=\u001b[0m\u001b[0mencoding\u001b[0m\u001b[1;33m,\u001b[0m \u001b[0mnewline\u001b[0m\u001b[1;33m=\u001b[0m\u001b[0mnewline\u001b[0m\u001b[1;33m)\u001b[0m\u001b[1;33m\u001b[0m\u001b[1;33m\u001b[0m\u001b[0m\n\u001b[0m\u001b[0;32m    267\u001b[0m \u001b[1;33m\u001b[0m\u001b[0m\n\u001b[0;32m    268\u001b[0m \u001b[1;33m\u001b[0m\u001b[0m\n",
      "\u001b[1;32m~\\Anaconda3\\lib\\site-packages\\numpy\\lib\\_datasource.py\u001b[0m in \u001b[0;36mopen\u001b[1;34m(self, path, mode, encoding, newline)\u001b[0m\n\u001b[0;32m    622\u001b[0m                                       encoding=encoding, newline=newline)\n\u001b[0;32m    623\u001b[0m         \u001b[1;32melse\u001b[0m\u001b[1;33m:\u001b[0m\u001b[1;33m\u001b[0m\u001b[1;33m\u001b[0m\u001b[0m\n\u001b[1;32m--> 624\u001b[1;33m             \u001b[1;32mraise\u001b[0m \u001b[0mIOError\u001b[0m\u001b[1;33m(\u001b[0m\u001b[1;34m\"%s not found.\"\u001b[0m \u001b[1;33m%\u001b[0m \u001b[0mpath\u001b[0m\u001b[1;33m)\u001b[0m\u001b[1;33m\u001b[0m\u001b[1;33m\u001b[0m\u001b[0m\n\u001b[0m\u001b[0;32m    625\u001b[0m \u001b[1;33m\u001b[0m\u001b[0m\n\u001b[0;32m    626\u001b[0m \u001b[1;33m\u001b[0m\u001b[0m\n",
      "\u001b[1;31mOSError\u001b[0m: ..\\..\\user_data\\tmp_model_dani\\Underexpose_item_feat_prin_all_train_TXT.txt not found."
     ]
    }
   ],
   "source": [
    "\n",
    "print(\"Cargando datos B\", flush=True)\n",
    "matrix_b = np.genfromtxt(\"..\\\\..\\\\user_data\\\\tmp_model_dani\\\\Underexpose_item_feat_prin_all_train_all.txt\", delimiter=',')\n",
    "print(\"Cargando datos A\", flush=True)\n",
    "matrix_a = np.genfromtxt('..\\\\..\\\\user_data\\\\tmp_model_dani\\\\VALIDACION_FINAL_all.txt', delimiter=',')\n",
    "print(\"Calculando distancias\", flush=True)\n",
    "d=distance(matrix_a, matrix_b, 500)\n",
    "    np.savetxt('..\\\\..\\\\user_data\\\\tmp_model_dani\\\\VALIDACION_FINAL_OUT.txt', d.transpose(), delimiter=',', fmt=\"%d,%d,%f8\")\n"
   ]
  },
  {
   "cell_type": "code",
   "execution_count": 26,
   "metadata": {},
   "outputs": [
    {
     "name": "stdout",
     "output_type": "stream",
     "text": [
      "17296 / 17297\n"
     ]
    }
   ],
   "source": [
    "\n",
    "\n",
    "print(\"Cargando datos B\", flush=True)\n",
    "matrix_b = np.genfromtxt(\"..\\\\..\\\\user_data\\\\tmp_model_dani\\\\Underexpose_item_feat_prin_all_train_TXT.txt\", delimiter=',')\n",
    "print(\"Cargando datos A\", flush=True)\n",
    "matrix_a = np.genfromtxt('..\\\\..\\\\user_data\\\\tmp_model_dani\\\\VALIDACION_FINAL_TXT_TXT.txt', delimiter=',')\n",
    "print(\"Calculando distancias\", flush=True)\n",
    "d=distance(matrix_a,matrix_b,500)\n",
    "np.savetxt('..\\\\..\\\\user_data\\\\tmp_model_dani\\\\VALIDACION_FINAL_TXT_OUT.txt', d.transpose(), delimiter=',', fmt=\"%d,%d,%f8\")\n"
   ]
  },
  {
   "cell_type": "code",
   "execution_count": 24,
   "metadata": {},
   "outputs": [
    {
     "name": "stdout",
     "output_type": "stream",
     "text": [
      "17414 / 17415\n"
     ]
    }
   ],
   "source": [
    "\n",
    "print(\"Cargando datos B\", flush=True)\n",
    "matrix_b = np.genfromtxt(\"..\\\\..\\\\user_data\\\\tmp_model_dani\\\\Underexpose_item_feat_prin_all_test_ALL.txt\", delimiter=',')\n",
    "print(\"Cargando datos A\", flush=True)\n",
    "matrix_a = np.genfromtxt('..\\\\..\\\\user_data\\\\tmp_model_dani\\\\TEST_FINAL_ALL.txt', delimiter=',')\n",
    "print(\"Calculando distancias\", flush=True)\n",
    "d=distance(matrix_a,matrix_b,500)\n",
    "np.savetxt('..\\\\..\\\\user_data\\\\tmp_model_dani\\\\TEST_FINAL_OUT.txt', d.transpose(), delimiter=',', fmt=\"%d,%d,%f8\")\n"
   ]
  },
  {
   "cell_type": "code",
   "execution_count": 25,
   "metadata": {},
   "outputs": [
    {
     "name": "stdout",
     "output_type": "stream",
     "text": [
      "17414 / 17415\n"
     ]
    }
   ],
   "source": [
    "print(\"Cargando datos B\", flush=True)\n",
    "matrix_b = np.genfromtxt(\"..\\\\..\\\\user_data\\\\tmp_model_dani\\\\Underexpose_item_feat_prin_all_test_TXT.txt\", delimiter=',')\n",
    "print(\"Cargando datos A\", flush=True)\n",
    "matrix_a = np.genfromtxt('..\\\\..\\\\user_data\\\\tmp_model_dani\\TEST_FINAL_TXT_TXT.txt', delimiter=',')\n",
    "print(\"Calculando distancias\", flush=True)\n",
    "d=distance(matrix_a,matrix_b,500)\n",
    "np.savetxt(\"..\\\\..\\\\user_data\\\\tmp_model_dani\\\\TEST_FINAL_TXT_OUT.txt\", d.transpose(), delimiter=',', fmt=\"%d,%d,%f8\")"
   ]
  },
  {
   "cell_type": "code",
   "execution_count": 3,
   "metadata": {},
   "outputs": [
    {
     "name": "stdout",
     "output_type": "stream",
     "text": [
      "Cargando datos B\n",
      "Cargando datos A\n",
      "Calculando distancias\n",
      "Cargando datos B\n",
      "Cargando datos A\n",
      "Calculando distancias\n",
      "Cargando datos B\n",
      "Cargando datos A\n",
      "Calculando distancias\n"
     ]
    }
   ],
   "source": [
    "\n",
    "print(\"Cargando datos B\", flush=True)\n",
    "matrix_b = np.genfromtxt(\"..\\\\..\\\\user_data\\\\tmp_model_dani\\\\Underexpose_item_feat_prin_all_train_TXT.txt\", delimiter=',')\n",
    "\n",
    "print(\"Cargando datos A\", flush=True)\n",
    "matrix_a = np.genfromtxt('..\\\\..\\\\user_data\\\\tmp_model_dani\\\\VALIDACION_FINAL_TXT_TXT.txt', delimiter=',')\n",
    "print(\"Calculando distancias\", flush=True)\n",
    "\n",
    "print(\"Cargando datos B\", flush=True)\n",
    "matrix_b = np.genfromtxt(\"..\\\\..\\\\user_data\\\\tmp_model_dani\\\\Underexpose_item_feat_prin_all_test_ALL.txt\", delimiter=',')\n",
    "\n",
    "print(\"Cargando datos A\", flush=True)\n",
    "matrix_a = np.genfromtxt('..\\\\..\\\\user_data\\\\tmp_model_dani\\\\TEST_FINAL_ALL.txt', delimiter=',')\n",
    "print(\"Calculando distancias\", flush=True)\n",
    "\n",
    "print(\"Cargando datos B\", flush=True)\n",
    "matrix_b = np.genfromtxt(\"..\\\\..\\\\user_data\\\\tmp_model_dani\\\\Underexpose_item_feat_prin_all_test_TXT.txt\", delimiter=',')\n",
    "\n",
    "print(\"Cargando datos A\", flush=True)\n",
    "matrix_a = np.genfromtxt('..\\\\..\\\\user_data\\\\tmp_model_dani\\TEST_FINAL_TXT_TXT.txt', delimiter=',')\n",
    "print(\"Calculando distancias\", flush=True)\n",
    "\n"
   ]
  },
  {
   "cell_type": "code",
   "execution_count": null,
   "metadata": {},
   "outputs": [],
   "source": []
  }
 ],
 "metadata": {
  "kernelspec": {
   "display_name": "Python 3",
   "language": "python",
   "name": "python3"
  },
  "language_info": {
   "codemirror_mode": {
    "name": "ipython",
    "version": 3
   },
   "file_extension": ".py",
   "mimetype": "text/x-python",
   "name": "python",
   "nbconvert_exporter": "python",
   "pygments_lexer": "ipython3",
   "version": "3.7.4"
  }
 },
 "nbformat": 4,
 "nbformat_minor": 2
}
